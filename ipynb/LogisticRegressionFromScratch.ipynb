{
  "nbformat": 4,
  "nbformat_minor": 0,
  "metadata": {
    "colab": {
      "name": "Question2.ipynb",
      "provenance": [],
      "collapsed_sections": []
    },
    "kernelspec": {
      "name": "python3",
      "display_name": "Python 3"
    }
  },
  "cells": [
    {
      "cell_type": "code",
      "metadata": {
        "id": "XuOF09jWPmKP"
      },
      "source": [
        "# Importing the needed libraries\n",
        "import numpy as np\n",
        "import matplotlib.pyplot as plt\n",
        "import pandas as pd"
      ],
      "execution_count": 4,
      "outputs": []
    },
    {
      "cell_type": "code",
      "metadata": {
        "id": "PWGdNRtsPx1f"
      },
      "source": [
        "# In order to to read the Ciffar data set, we must define the unpickle function: https://www.cs.toronto.edu/~kriz/cifar-10-python.tar.gz). \n",
        "def unpickle(file):\n",
        "    import pickle\n",
        "    with open(file, 'rb') as fo:\n",
        "        dict = pickle.load(fo, encoding='bytes')\n",
        "    return dict"
      ],
      "execution_count": 5,
      "outputs": []
    },
    {
      "cell_type": "code",
      "metadata": {
        "id": "N9A26GTNPzyv",
        "outputId": "2b244aee-d5d9-411d-c84d-34c68ac33e1d",
        "colab": {
          "base_uri": "https://localhost:8080/",
          "height": 34
        }
      },
      "source": [
        "from google.colab import drive\n",
        "drive.mount('/content/drive')"
      ],
      "execution_count": 6,
      "outputs": [
        {
          "output_type": "stream",
          "text": [
            "Mounted at /content/drive\n"
          ],
          "name": "stdout"
        }
      ]
    },
    {
      "cell_type": "code",
      "metadata": {
        "id": "XlrveMeYP1nX"
      },
      "source": [
        "# Reading the data\n",
        "data_1 = unpickle(\"/content/drive/My Drive/Colab Notebooks/cifar-10-batches-py/data_batch_1\")\n",
        "data_2 = unpickle(\"/content/drive/My Drive/Colab Notebooks/cifar-10-batches-py/data_batch_2\")\n",
        "data_3 = unpickle(\"/content/drive/My Drive/Colab Notebooks/cifar-10-batches-py/data_batch_3\")\n",
        "data_4 = unpickle(\"/content/drive/My Drive/Colab Notebooks/cifar-10-batches-py/data_batch_4\")\n",
        "data_5 = unpickle(\"/content/drive/My Drive/Colab Notebooks/cifar-10-batches-py/data_batch_5\")\n",
        "test_batch = unpickle(\"/content/drive/My Drive/Colab Notebooks/cifar-10-batches-py/test_batch\")"
      ],
      "execution_count": 7,
      "outputs": []
    },
    {
      "cell_type": "code",
      "metadata": {
        "id": "pyHnhB_HP8gP"
      },
      "source": [
        "#Normalizing Images\n",
        "data_1_data = (data_1[b\"data\"].astype(float)[:,0:1024] - np.mean(data_1[b\"data\"].astype(float)[:,0:1024],axis=1)[:,np.newaxis])/(np.std(data_1[b\"data\"].astype(float)[:,0:1024], axis=1)[:, np.newaxis])\n",
        "data_1_labels = data_1[b\"labels\"]\n",
        "\n",
        "data_2_data = (data_2[b\"data\"].astype(float)[:,0:1024] - np.mean(data_2[b\"data\"].astype(float)[:,0:1024],axis=1)[:,np.newaxis])/(np.std(data_2[b\"data\"].astype(float)[:,0:1024], axis=1)[:, np.newaxis])\n",
        "data_2_labels = data_2[b\"labels\"]\n",
        "\n",
        "data_3_data = (data_3[b\"data\"].astype(float)[:,0:1024] - np.mean(data_3[b\"data\"].astype(float)[:,0:1024],axis=1)[:,np.newaxis])/(np.std(data_3[b\"data\"].astype(float)[:,0:1024], axis=1)[:, np.newaxis])\n",
        "data_3_labels = data_3[b\"labels\"]\n",
        "\n",
        "data_4_data = (data_4[b\"data\"].astype(float)[:,0:1024] - np.mean(data_4[b\"data\"].astype(float)[:,0:1024],axis=1)[:,np.newaxis])/(np.std(data_4[b\"data\"].astype(float)[:,0:1024], axis=1)[:, np.newaxis])\n",
        "data_4_labels = data_4[b\"labels\"]\n",
        "\n",
        "data_5_data = (data_5[b\"data\"].astype(float)[:,0:1024] - np.mean(data_5[b\"data\"].astype(float)[:,0:1024],axis=1)[:,np.newaxis])/(np.std(data_5[b\"data\"].astype(float)[:,0:1024], axis=1)[:, np.newaxis])\n",
        "data_5_labels = data_5[b\"labels\"]\n",
        "\n",
        "test_batch_data = test_batch[b\"data\"].astype(float)[:,0:1024]\n",
        "test_batch_labels = test_batch[b\"labels\"]"
      ],
      "execution_count": 8,
      "outputs": []
    },
    {
      "cell_type": "markdown",
      "metadata": {
        "id": "rsjltbW6yd39"
      },
      "source": [
        "Dimensions"
      ]
    },
    {
      "cell_type": "code",
      "metadata": {
        "id": "pUjdh0SYQCCn"
      },
      "source": [
        "#X: training data -> M*(D+1)\n",
        "#y: training label -> M*1\n",
        "#w: weight vector -> (D+1)*1\n",
        "#landa: Scaler value"
      ],
      "execution_count": 27,
      "outputs": []
    },
    {
      "cell_type": "code",
      "metadata": {
        "id": "Pma7qMuyQNdu"
      },
      "source": [
        "#Sigmoid function\n",
        "def sigmoid(X,w):\n",
        "    z = np.dot(X,w)\n",
        "    return 1/(1+np.exp(-z))\n",
        "\n",
        "#sigmoid -> M*1"
      ],
      "execution_count": 9,
      "outputs": []
    },
    {
      "cell_type": "code",
      "metadata": {
        "id": "ldeUbShkQZnn"
      },
      "source": [
        "#The Avergae Negative Likelihood Function\n",
        "def AverageNegativeLog_likelihood(X, y,w,landa):\n",
        "    M = len(X)\n",
        "    one = np.ones((M,1))\n",
        "    X = np.concatenate((X,one), axis=1)\n",
        "    activation = sigmoid(X,w) \n",
        "\n",
        "    regularization = (landa/2)*np.dot(w.T,w)\n",
        "    loss = (-1/M)*(np.dot(y.T, np.log(activation)) + np.dot((1-y).T,np.log(1-activation))) + regularization\n",
        "    return loss  \n",
        "\n",
        "#AverageNegativeLog_likelihood -> a scaler"
      ],
      "execution_count": 10,
      "outputs": []
    },
    {
      "cell_type": "code",
      "metadata": {
        "id": "gqrdp-QJQZ9P"
      },
      "source": [
        "#Calculate and updating gradient\n",
        "def gradientL(X,y,w,landa):\n",
        "    M = len(X)\n",
        "    one = np.ones((M,1))\n",
        "    X = np.concatenate((X,one), axis=1)\n",
        "    #X: training data -> M*(D+1)\n",
        "    #y: training label -> M*1\n",
        "    #w: weight vector -> (D+1)*1\n",
        "    grad = (1/M)*(np.dot(-(y - sigmoid(X,w)).T, X)) + landa*(w.T) \n",
        "    return grad\n",
        "\n",
        "# gradient: a grad vector -> 1*(D+1)"
      ],
      "execution_count": 11,
      "outputs": []
    },
    {
      "cell_type": "code",
      "metadata": {
        "id": "OmcfMcV5FUTD"
      },
      "source": [
        "#Defining the classes: EXP: the Airplanes are 1 and others are 0\n",
        "def preprocessing (labels,selected_class):\n",
        "  new_labels = []\n",
        "  for i in labels:\n",
        "    if i != selected_class:\n",
        "      i = 0\n",
        "      new_labels.append(i)\n",
        "    else:\n",
        "      i = 1\n",
        "      new_labels.append(i)\n",
        "  \n",
        "  new_labels = np.array(new_labels).reshape(len(new_labels),1)\n",
        "  return new_labels"
      ],
      "execution_count": 12,
      "outputs": []
    },
    {
      "cell_type": "code",
      "metadata": {
        "id": "_1YXirUjBYG6"
      },
      "source": [
        "def classifier(training_data, training_labels, selected_class, test_data, test_labels, landa, learning_rate, iter_num):\n",
        "  \n",
        "  #Preparing training labels for classification\n",
        "  new_training_labels = preprocessing(training_labels, selected_class)\n",
        "  \n",
        "  #preparing the training data and initialze the weights\n",
        "  y = new_training_labels\n",
        "  X = training_data \n",
        "  w = np.random.rand(1025,1)\n",
        "  i = 0\n",
        "  \n",
        "  #Updating weights\n",
        "  while i < iter_num:    \n",
        "    grad = gradientL(X,y,w,landa).T\n",
        "    w = w - learning_rate * grad\n",
        "    i = i +1\n",
        "\n",
        "  #Preparing the test data and apply the selected weights\n",
        "  M = len(test_data)\n",
        "  one = np.ones((M,1))\n",
        "  test_data = np.concatenate((test_data,one), axis=1)\n",
        "  predicted_label = sigmoid(test_data,w)\n",
        "  #predicted lables\n",
        "  for i in range(0,len(predicted_label)):\n",
        "    if predicted_label[i,0] <= 0.5:\n",
        "      predicted_label[i,0] = 0\n",
        "    else: \n",
        "      predicted_label[i,0] = 1\n",
        "\n",
        "  #preparing the test labels and calculating confusion matrix\n",
        "  new_test_labels = preprocessing(test_labels, selected_class)\n",
        "  TP = 0 #TP: True positive\n",
        "  FN = 0 #FN: False Negative\n",
        "  FP = 0 #FP: False Positive\n",
        "  TN = 0 #TN: True negative\n",
        "  for i in range(0,len(new_test_labels)):\n",
        "    if predicted_label[i,0] == 1:\n",
        "      if new_test_labels[i,0] == 1:\n",
        "        TP = TP + 1\n",
        "      else:\n",
        "        FP = FP + 1\n",
        "      \n",
        "    else:\n",
        "      if new_test_labels[i,0] == 1:\n",
        "        FN = FN + 1\n",
        "      else:\n",
        "        TN = TN + 1\n",
        "\n",
        "  confusion_matrix = np.zeros((2,2))\n",
        "  confusion_matrix[0,0] = TP\n",
        "  confusion_matrix[1,0] = FP\n",
        "  confusion_matrix[0,1] = FN\n",
        "  confusion_matrix[1,1] = TN\n",
        "  print(f\"the class that we are working on: {selected_class}\")\n",
        "  print(f\"\"\"confusion matrix:\n",
        "\n",
        "  {confusion_matrix}\n",
        "\n",
        "  \"\"\")\n",
        "  acc = (TP+TN) / len(new_test_labels)\n",
        "  print(f\"Accuracy: {acc}\") \n",
        "  print(\"\\n\")\n",
        "  print(\"\\n\")\n",
        "  return w"
      ],
      "execution_count": 13,
      "outputs": []
    },
    {
      "cell_type": "code",
      "metadata": {
        "id": "tfu4_YxASheu",
        "outputId": "545f8447-6a67-415d-e22d-b2c7c6a140e6",
        "colab": {
          "base_uri": "https://localhost:8080/",
          "height": 1000
        }
      },
      "source": [
        "#batch 1, Class 0-9:\n",
        "Weights_1 = []\n",
        "for i in range(0,10):\n",
        "  w = classifier(data_1_data,data_1_labels,i,test_batch_data,test_batch_labels,0.1,0.04,10000)\n",
        "  Weights_1.append(w)"
      ],
      "execution_count": 33,
      "outputs": [
        {
          "output_type": "stream",
          "text": [
            "the class that we are working on: 0\n",
            "confusion matrix:\n",
            "\n",
            "  [[ 538.  462.]\n",
            " [3069. 5931.]]\n",
            "\n",
            "  \n",
            "Accuracy: 0.6469\n",
            "\n",
            "\n",
            "\n",
            "\n",
            "the class that we are working on: 1\n",
            "confusion matrix:\n",
            "\n",
            "  [[ 705.  295.]\n",
            " [4013. 4987.]]\n",
            "\n",
            "  \n",
            "Accuracy: 0.5692\n",
            "\n",
            "\n",
            "\n",
            "\n",
            "the class that we are working on: 2\n",
            "confusion matrix:\n",
            "\n",
            "  [[ 471.  529.]\n",
            " [3068. 5932.]]\n",
            "\n",
            "  \n",
            "Accuracy: 0.6403\n",
            "\n",
            "\n",
            "\n",
            "\n",
            "the class that we are working on: 3\n",
            "confusion matrix:\n",
            "\n",
            "  [[ 490.  510.]\n",
            " [3054. 5946.]]\n",
            "\n",
            "  \n",
            "Accuracy: 0.6436\n",
            "\n",
            "\n",
            "\n",
            "\n",
            "the class that we are working on: 4\n",
            "confusion matrix:\n",
            "\n",
            "  [[ 513.  487.]\n",
            " [3252. 5748.]]\n",
            "\n",
            "  \n",
            "Accuracy: 0.6261\n",
            "\n",
            "\n",
            "\n",
            "\n",
            "the class that we are working on: 5\n",
            "confusion matrix:\n",
            "\n",
            "  [[ 564.  436.]\n",
            " [3108. 5892.]]\n",
            "\n",
            "  \n",
            "Accuracy: 0.6456\n",
            "\n",
            "\n",
            "\n",
            "\n",
            "the class that we are working on: 6\n",
            "confusion matrix:\n",
            "\n",
            "  [[ 553.  447.]\n",
            " [3216. 5784.]]\n",
            "\n",
            "  \n",
            "Accuracy: 0.6337\n",
            "\n",
            "\n",
            "\n",
            "\n",
            "the class that we are working on: 7\n",
            "confusion matrix:\n",
            "\n",
            "  [[ 572.  428.]\n",
            " [3144. 5856.]]\n",
            "\n",
            "  \n",
            "Accuracy: 0.6428\n",
            "\n",
            "\n",
            "\n",
            "\n",
            "the class that we are working on: 8\n",
            "confusion matrix:\n",
            "\n",
            "  [[ 733.  267.]\n",
            " [3624. 5376.]]\n",
            "\n",
            "  \n",
            "Accuracy: 0.6109\n",
            "\n",
            "\n",
            "\n",
            "\n",
            "the class that we are working on: 9\n",
            "confusion matrix:\n",
            "\n",
            "  [[ 771.  229.]\n",
            " [4067. 4933.]]\n",
            "\n",
            "  \n",
            "Accuracy: 0.5704\n",
            "\n",
            "\n",
            "\n",
            "\n"
          ],
          "name": "stdout"
        }
      ]
    },
    {
      "cell_type": "code",
      "metadata": {
        "id": "52jXbar0Abv9",
        "outputId": "450e6c5a-37aa-457c-a3f6-420848e91653",
        "colab": {
          "base_uri": "https://localhost:8080/",
          "height": 1000
        }
      },
      "source": [
        "#batch 2, Class 0-9:\n",
        "Weights_2 = []\n",
        "for i in range(0,10):\n",
        "  w = classifier(data_2_data,data_2_labels,i,test_batch_data,test_batch_labels,0.1,0.04,10000)\n",
        "  Weights_2.append(w)\n"
      ],
      "execution_count": 34,
      "outputs": [
        {
          "output_type": "stream",
          "text": [
            "the class that we are working on: 0\n",
            "confusion matrix:\n",
            "\n",
            "  [[ 543.  457.]\n",
            " [3223. 5777.]]\n",
            "\n",
            "  \n",
            "Accuracy: 0.632\n",
            "\n",
            "\n",
            "\n",
            "\n",
            "the class that we are working on: 1\n",
            "confusion matrix:\n",
            "\n",
            "  [[ 730.  270.]\n",
            " [3972. 5028.]]\n",
            "\n",
            "  \n",
            "Accuracy: 0.5758\n",
            "\n",
            "\n",
            "\n",
            "\n",
            "the class that we are working on: 2\n",
            "confusion matrix:\n",
            "\n",
            "  [[ 486.  514.]\n",
            " [3045. 5955.]]\n",
            "\n",
            "  \n",
            "Accuracy: 0.6441\n",
            "\n",
            "\n",
            "\n",
            "\n",
            "the class that we are working on: 3\n",
            "confusion matrix:\n",
            "\n",
            "  [[ 495.  505.]\n",
            " [3085. 5915.]]\n",
            "\n",
            "  \n",
            "Accuracy: 0.641\n",
            "\n",
            "\n",
            "\n",
            "\n",
            "the class that we are working on: 4\n",
            "confusion matrix:\n",
            "\n",
            "  [[ 526.  474.]\n",
            " [3179. 5821.]]\n",
            "\n",
            "  \n",
            "Accuracy: 0.6347\n",
            "\n",
            "\n",
            "\n",
            "\n",
            "the class that we are working on: 5\n",
            "confusion matrix:\n",
            "\n",
            "  [[ 611.  389.]\n",
            " [3225. 5775.]]\n",
            "\n",
            "  \n",
            "Accuracy: 0.6386\n",
            "\n",
            "\n",
            "\n",
            "\n",
            "the class that we are working on: 6\n",
            "confusion matrix:\n",
            "\n",
            "  [[ 548.  452.]\n",
            " [3203. 5797.]]\n",
            "\n",
            "  \n",
            "Accuracy: 0.6345\n",
            "\n",
            "\n",
            "\n",
            "\n",
            "the class that we are working on: 7\n",
            "confusion matrix:\n",
            "\n",
            "  [[ 533.  467.]\n",
            " [3051. 5949.]]\n",
            "\n",
            "  \n",
            "Accuracy: 0.6482\n",
            "\n",
            "\n",
            "\n",
            "\n",
            "the class that we are working on: 8\n",
            "confusion matrix:\n",
            "\n",
            "  [[ 737.  263.]\n",
            " [3571. 5429.]]\n",
            "\n",
            "  \n",
            "Accuracy: 0.6166\n",
            "\n",
            "\n",
            "\n",
            "\n",
            "the class that we are working on: 9\n",
            "confusion matrix:\n",
            "\n",
            "  [[ 758.  242.]\n",
            " [4034. 4966.]]\n",
            "\n",
            "  \n",
            "Accuracy: 0.5724\n",
            "\n",
            "\n",
            "\n",
            "\n"
          ],
          "name": "stdout"
        }
      ]
    },
    {
      "cell_type": "code",
      "metadata": {
        "id": "_upVYrr-kS0G",
        "outputId": "18511ba2-3bc7-43d9-b0a2-0dd510cf8772",
        "colab": {
          "base_uri": "https://localhost:8080/",
          "height": 1000
        }
      },
      "source": [
        "#batch 3, Class 0-9:\n",
        "Weights_3 = []\n",
        "for i in range(0,10):\n",
        "  w = classifier(data_3_data,data_3_labels,i,test_batch_data,test_batch_labels,0.1,0.04,10000)\n",
        "  Weights_3.append(w)"
      ],
      "execution_count": 35,
      "outputs": [
        {
          "output_type": "stream",
          "text": [
            "the class that we are working on: 0\n",
            "confusion matrix:\n",
            "\n",
            "  [[ 523.  477.]\n",
            " [3166. 5834.]]\n",
            "\n",
            "  \n",
            "Accuracy: 0.6357\n",
            "\n",
            "\n",
            "\n",
            "\n",
            "the class that we are working on: 1\n",
            "confusion matrix:\n",
            "\n",
            "  [[ 753.  247.]\n",
            " [4158. 4842.]]\n",
            "\n",
            "  \n",
            "Accuracy: 0.5595\n",
            "\n",
            "\n",
            "\n",
            "\n",
            "the class that we are working on: 2\n",
            "confusion matrix:\n",
            "\n",
            "  [[ 491.  509.]\n",
            " [3033. 5967.]]\n",
            "\n",
            "  \n",
            "Accuracy: 0.6458\n",
            "\n",
            "\n",
            "\n",
            "\n",
            "the class that we are working on: 3\n",
            "confusion matrix:\n",
            "\n",
            "  [[ 487.  513.]\n",
            " [3026. 5974.]]\n",
            "\n",
            "  \n",
            "Accuracy: 0.6461\n",
            "\n",
            "\n",
            "\n",
            "\n",
            "the class that we are working on: 4\n",
            "confusion matrix:\n",
            "\n",
            "  [[ 546.  454.]\n",
            " [3274. 5726.]]\n",
            "\n",
            "  \n",
            "Accuracy: 0.6272\n",
            "\n",
            "\n",
            "\n",
            "\n",
            "the class that we are working on: 5\n",
            "confusion matrix:\n",
            "\n",
            "  [[ 598.  402.]\n",
            " [3223. 5777.]]\n",
            "\n",
            "  \n",
            "Accuracy: 0.6375\n",
            "\n",
            "\n",
            "\n",
            "\n",
            "the class that we are working on: 6\n",
            "confusion matrix:\n",
            "\n",
            "  [[ 555.  445.]\n",
            " [3183. 5817.]]\n",
            "\n",
            "  \n",
            "Accuracy: 0.6372\n",
            "\n",
            "\n",
            "\n",
            "\n",
            "the class that we are working on: 7\n",
            "confusion matrix:\n",
            "\n",
            "  [[ 557.  443.]\n",
            " [3125. 5875.]]\n",
            "\n",
            "  \n",
            "Accuracy: 0.6432\n",
            "\n",
            "\n",
            "\n",
            "\n",
            "the class that we are working on: 8\n",
            "confusion matrix:\n",
            "\n",
            "  [[ 735.  265.]\n",
            " [3617. 5383.]]\n",
            "\n",
            "  \n",
            "Accuracy: 0.6118\n",
            "\n",
            "\n",
            "\n",
            "\n",
            "the class that we are working on: 9\n",
            "confusion matrix:\n",
            "\n",
            "  [[ 789.  211.]\n",
            " [4129. 4871.]]\n",
            "\n",
            "  \n",
            "Accuracy: 0.566\n",
            "\n",
            "\n",
            "\n",
            "\n"
          ],
          "name": "stdout"
        }
      ]
    },
    {
      "cell_type": "code",
      "metadata": {
        "id": "VS4p7KUhkTkD",
        "outputId": "cccda4c6-a8b3-4a99-ea71-55ae539522b9",
        "colab": {
          "base_uri": "https://localhost:8080/",
          "height": 1000
        }
      },
      "source": [
        "#batch 4, Class 0-9:\n",
        "Weights_4 = []\n",
        "for i in range(0,10):\n",
        "  w = classifier(data_4_data,data_4_labels,i,test_batch_data,test_batch_labels,0.1,0.04,10000)\n",
        "  Weights_4.append(w)"
      ],
      "execution_count": 37,
      "outputs": [
        {
          "output_type": "stream",
          "text": [
            "the class that we are working on: 0\n",
            "confusion matrix:\n",
            "\n",
            "  [[ 529.  471.]\n",
            " [3117. 5883.]]\n",
            "\n",
            "  \n",
            "Accuracy: 0.6412\n",
            "\n",
            "\n",
            "\n",
            "\n",
            "the class that we are working on: 1\n",
            "confusion matrix:\n",
            "\n",
            "  [[ 682.  318.]\n",
            " [3781. 5219.]]\n",
            "\n",
            "  \n",
            "Accuracy: 0.5901\n",
            "\n",
            "\n",
            "\n",
            "\n",
            "the class that we are working on: 2\n",
            "confusion matrix:\n",
            "\n",
            "  [[ 456.  544.]\n",
            " [2986. 6014.]]\n",
            "\n",
            "  \n",
            "Accuracy: 0.647\n",
            "\n",
            "\n",
            "\n",
            "\n",
            "the class that we are working on: 3\n",
            "confusion matrix:\n",
            "\n",
            "  [[ 516.  484.]\n",
            " [3103. 5897.]]\n",
            "\n",
            "  \n",
            "Accuracy: 0.6413\n",
            "\n",
            "\n",
            "\n",
            "\n",
            "the class that we are working on: 4\n",
            "confusion matrix:\n",
            "\n",
            "  [[ 521.  479.]\n",
            " [3162. 5838.]]\n",
            "\n",
            "  \n",
            "Accuracy: 0.6359\n",
            "\n",
            "\n",
            "\n",
            "\n",
            "the class that we are working on: 5\n",
            "confusion matrix:\n",
            "\n",
            "  [[ 589.  411.]\n",
            " [3160. 5840.]]\n",
            "\n",
            "  \n",
            "Accuracy: 0.6429\n",
            "\n",
            "\n",
            "\n",
            "\n",
            "the class that we are working on: 6\n",
            "confusion matrix:\n",
            "\n",
            "  [[ 519.  481.]\n",
            " [3142. 5858.]]\n",
            "\n",
            "  \n",
            "Accuracy: 0.6377\n",
            "\n",
            "\n",
            "\n",
            "\n",
            "the class that we are working on: 7\n",
            "confusion matrix:\n",
            "\n",
            "  [[ 515.  485.]\n",
            " [3072. 5928.]]\n",
            "\n",
            "  \n",
            "Accuracy: 0.6443\n",
            "\n",
            "\n",
            "\n",
            "\n",
            "the class that we are working on: 8\n",
            "confusion matrix:\n",
            "\n",
            "  [[ 737.  263.]\n",
            " [3569. 5431.]]\n",
            "\n",
            "  \n",
            "Accuracy: 0.6168\n",
            "\n",
            "\n",
            "\n",
            "\n",
            "the class that we are working on: 9\n",
            "confusion matrix:\n",
            "\n",
            "  [[ 789.  211.]\n",
            " [4032. 4968.]]\n",
            "\n",
            "  \n",
            "Accuracy: 0.5757\n",
            "\n",
            "\n",
            "\n",
            "\n"
          ],
          "name": "stdout"
        }
      ]
    },
    {
      "cell_type": "code",
      "metadata": {
        "id": "mWPDiwpIkUZb",
        "outputId": "475e2787-8947-421c-f639-95c408eda8fe",
        "colab": {
          "base_uri": "https://localhost:8080/",
          "height": 1000
        }
      },
      "source": [
        "#batch 5, Class 0-9:\n",
        "Weights_5 = []\n",
        "for i in range(0,10):\n",
        "  w = classifier(data_5_data,data_5_labels,i,test_batch_data,test_batch_labels,0.1,0.04,10000)\n",
        "  Weights_5.append(w)"
      ],
      "execution_count": 38,
      "outputs": [
        {
          "output_type": "stream",
          "text": [
            "the class that we are working on: 0\n",
            "confusion matrix:\n",
            "\n",
            "  [[ 553.  447.]\n",
            " [3170. 5830.]]\n",
            "\n",
            "  \n",
            "Accuracy: 0.6383\n",
            "\n",
            "\n",
            "\n",
            "\n",
            "the class that we are working on: 1\n",
            "confusion matrix:\n",
            "\n",
            "  [[ 708.  292.]\n",
            " [3925. 5075.]]\n",
            "\n",
            "  \n",
            "Accuracy: 0.5783\n",
            "\n",
            "\n",
            "\n",
            "\n",
            "the class that we are working on: 2\n",
            "confusion matrix:\n",
            "\n",
            "  [[ 460.  540.]\n",
            " [2979. 6021.]]\n",
            "\n",
            "  \n",
            "Accuracy: 0.6481\n",
            "\n",
            "\n",
            "\n",
            "\n",
            "the class that we are working on: 3\n",
            "confusion matrix:\n",
            "\n",
            "  [[ 524.  476.]\n",
            " [3073. 5927.]]\n",
            "\n",
            "  \n",
            "Accuracy: 0.6451\n",
            "\n",
            "\n",
            "\n",
            "\n",
            "the class that we are working on: 4\n",
            "confusion matrix:\n",
            "\n",
            "  [[ 529.  471.]\n",
            " [3151. 5849.]]\n",
            "\n",
            "  \n",
            "Accuracy: 0.6378\n",
            "\n",
            "\n",
            "\n",
            "\n",
            "the class that we are working on: 5\n",
            "confusion matrix:\n",
            "\n",
            "  [[ 587.  413.]\n",
            " [3193. 5807.]]\n",
            "\n",
            "  \n",
            "Accuracy: 0.6394\n",
            "\n",
            "\n",
            "\n",
            "\n",
            "the class that we are working on: 6\n",
            "confusion matrix:\n",
            "\n",
            "  [[ 540.  460.]\n",
            " [3153. 5847.]]\n",
            "\n",
            "  \n",
            "Accuracy: 0.6387\n",
            "\n",
            "\n",
            "\n",
            "\n",
            "the class that we are working on: 7\n",
            "confusion matrix:\n",
            "\n",
            "  [[ 543.  457.]\n",
            " [3161. 5839.]]\n",
            "\n",
            "  \n",
            "Accuracy: 0.6382\n",
            "\n",
            "\n",
            "\n",
            "\n",
            "the class that we are working on: 8\n",
            "confusion matrix:\n",
            "\n",
            "  [[ 724.  276.]\n",
            " [3601. 5399.]]\n",
            "\n",
            "  \n",
            "Accuracy: 0.6123\n",
            "\n",
            "\n",
            "\n",
            "\n",
            "the class that we are working on: 9\n",
            "confusion matrix:\n",
            "\n",
            "  [[ 788.  212.]\n",
            " [4102. 4898.]]\n",
            "\n",
            "  \n",
            "Accuracy: 0.5686\n",
            "\n",
            "\n",
            "\n",
            "\n"
          ],
          "name": "stdout"
        }
      ]
    },
    {
      "cell_type": "code",
      "metadata": {
        "id": "D8Ead0mb0zQq",
        "outputId": "b2a2f466-27e9-43ae-ede3-c900a87953a6",
        "colab": {
          "base_uri": "https://localhost:8080/",
          "height": 1000
        }
      },
      "source": [
        "#for each class,The weight with maximum accuracy has been selected from all the batches \n",
        "best_class_0_weights = classifier(data_1_data,data_1_labels,0,test_batch_data,test_batch_labels,0.1,0.04,10000)\n",
        "best_class_1_weights = classifier(data_4_data,data_4_labels,1,test_batch_data,test_batch_labels,0.1,0.04,10000)\n",
        "best_class_2_weights = classifier(data_5_data,data_5_labels,2,test_batch_data,test_batch_labels,0.1,0.04,10000)\n",
        "best_class_3_weights = classifier(data_3_data,data_3_labels,3,test_batch_data,test_batch_labels,0.1,0.04,10000)\n",
        "best_class_4_weights = classifier(data_2_data,data_2_labels,4,test_batch_data,test_batch_labels,0.1,0.04,10000)\n",
        "best_class_5_weights = classifier(data_1_data,data_1_labels,5,test_batch_data,test_batch_labels,0.1,0.04,10000)\n",
        "best_class_6_weights = classifier(data_5_data,data_5_labels,6,test_batch_data,test_batch_labels,0.1,0.04,10000)\n",
        "best_class_7_weights = classifier(data_2_data,data_2_labels,7,test_batch_data,test_batch_labels,0.1,0.04,10000)\n",
        "best_class_8_weights = classifier(data_4_data,data_4_labels,8,test_batch_data,test_batch_labels,0.1,0.04,10000) \n",
        "best_class_9_weights = classifier(data_2_data,data_2_labels,9,test_batch_data,test_batch_labels,0.1,0.04,10000)"
      ],
      "execution_count": 14,
      "outputs": [
        {
          "output_type": "stream",
          "text": [
            "the class that we are working on: 0\n",
            "confusion matrix:\n",
            "\n",
            "  [[ 538.  462.]\n",
            " [3069. 5931.]]\n",
            "\n",
            "  \n",
            "Accuracy: 0.6469\n",
            "\n",
            "\n",
            "\n",
            "\n",
            "the class that we are working on: 1\n",
            "confusion matrix:\n",
            "\n",
            "  [[ 682.  318.]\n",
            " [3781. 5219.]]\n",
            "\n",
            "  \n",
            "Accuracy: 0.5901\n",
            "\n",
            "\n",
            "\n",
            "\n",
            "the class that we are working on: 2\n",
            "confusion matrix:\n",
            "\n",
            "  [[ 460.  540.]\n",
            " [2979. 6021.]]\n",
            "\n",
            "  \n",
            "Accuracy: 0.6481\n",
            "\n",
            "\n",
            "\n",
            "\n",
            "the class that we are working on: 3\n",
            "confusion matrix:\n",
            "\n",
            "  [[ 487.  513.]\n",
            " [3026. 5974.]]\n",
            "\n",
            "  \n",
            "Accuracy: 0.6461\n",
            "\n",
            "\n",
            "\n",
            "\n",
            "the class that we are working on: 4\n",
            "confusion matrix:\n",
            "\n",
            "  [[ 526.  474.]\n",
            " [3179. 5821.]]\n",
            "\n",
            "  \n",
            "Accuracy: 0.6347\n",
            "\n",
            "\n",
            "\n",
            "\n",
            "the class that we are working on: 5\n",
            "confusion matrix:\n",
            "\n",
            "  [[ 564.  436.]\n",
            " [3108. 5892.]]\n",
            "\n",
            "  \n",
            "Accuracy: 0.6456\n",
            "\n",
            "\n",
            "\n",
            "\n",
            "the class that we are working on: 6\n",
            "confusion matrix:\n",
            "\n",
            "  [[ 540.  460.]\n",
            " [3153. 5847.]]\n",
            "\n",
            "  \n",
            "Accuracy: 0.6387\n",
            "\n",
            "\n",
            "\n",
            "\n",
            "the class that we are working on: 7\n",
            "confusion matrix:\n",
            "\n",
            "  [[ 533.  467.]\n",
            " [3051. 5949.]]\n",
            "\n",
            "  \n",
            "Accuracy: 0.6482\n",
            "\n",
            "\n",
            "\n",
            "\n",
            "the class that we are working on: 8\n",
            "confusion matrix:\n",
            "\n",
            "  [[ 737.  263.]\n",
            " [3569. 5431.]]\n",
            "\n",
            "  \n",
            "Accuracy: 0.6168\n",
            "\n",
            "\n",
            "\n",
            "\n",
            "the class that we are working on: 9\n",
            "confusion matrix:\n",
            "\n",
            "  [[ 758.  242.]\n",
            " [4034. 4966.]]\n",
            "\n",
            "  \n",
            "Accuracy: 0.5724\n",
            "\n",
            "\n",
            "\n",
            "\n"
          ],
          "name": "stdout"
        }
      ]
    },
    {
      "cell_type": "code",
      "metadata": {
        "id": "lct91kR89x70"
      },
      "source": [
        "#Here we remove bias from the weights and make them 32*32\n",
        "best_class_0_weights_without_b = np.delete(best_class_0_weights, 1024, 0).reshape(32,32)\n",
        "best_class_1_weights_without_b = np.delete(best_class_1_weights, 1024, 0).reshape(32,32)\n",
        "best_class_2_weights_without_b = np.delete(best_class_2_weights, 1024, 0).reshape(32,32)\n",
        "best_class_3_weights_without_b = np.delete(best_class_3_weights, 1024, 0).reshape(32,32)\n",
        "best_class_4_weights_without_b = np.delete(best_class_4_weights, 1024, 0).reshape(32,32)\n",
        "best_class_5_weights_without_b = np.delete(best_class_5_weights, 1024, 0).reshape(32,32)\n",
        "best_class_6_weights_without_b = np.delete(best_class_6_weights, 1024, 0).reshape(32,32)\n",
        "best_class_7_weights_without_b = np.delete(best_class_7_weights, 1024, 0).reshape(32,32)\n",
        "best_class_8_weights_without_b = np.delete(best_class_8_weights, 1024, 0).reshape(32,32)\n",
        "best_class_9_weights_without_b = np.delete(best_class_9_weights, 1024, 0).reshape(32,32)"
      ],
      "execution_count": 40,
      "outputs": []
    },
    {
      "cell_type": "code",
      "metadata": {
        "id": "zoB1NGONQEQh"
      },
      "source": [
        "%matplotlib inline"
      ],
      "execution_count": 37,
      "outputs": []
    },
    {
      "cell_type": "code",
      "metadata": {
        "id": "D2-XOheUSGDJ",
        "outputId": "d394acee-ea3f-437a-e1cd-d057f719d89f",
        "colab": {
          "base_uri": "https://localhost:8080/",
          "height": 266
        }
      },
      "source": [
        "#Class 0 --> airplane\n",
        "plt.imshow(best_class_0_weights_without_b,'gray') \n",
        "plt.show()  "
      ],
      "execution_count": 50,
      "outputs": [
        {
          "output_type": "display_data",
          "data": {
            "image/png": "[encoded data removed]",
            "text/plain": [
              "<Figure size 432x288 with 1 Axes>"
            ]
          },
          "metadata": {
            "tags": [],
            "needs_background": "light"
          }
        }
      ]
    },
    {
      "cell_type": "code",
      "metadata": {
        "id": "6pq8WZUmSViO",
        "outputId": "f185895d-b241-4eb7-caf6-b43ba13d09d1",
        "colab": {
          "base_uri": "https://localhost:8080/",
          "height": 266
        }
      },
      "source": [
        "#Class 1 --> automobile\n",
        "plt.imshow(best_class_1_weights_without_b,'gray') \n",
        "plt.show()  "
      ],
      "execution_count": 51,
      "outputs": [
        {
          "output_type": "display_data",
          "data": {
            "image/png": "[encoded data removed]",
            "text/plain": [
              "<Figure size 432x288 with 1 Axes>"
            ]
          },
          "metadata": {
            "tags": [],
            "needs_background": "light"
          }
        }
      ]
    },
    {
      "cell_type": "code",
      "metadata": {
        "id": "ke-0_-cSTazo",
        "outputId": "83bf2142-5353-4203-b27c-780912c76459",
        "colab": {
          "base_uri": "https://localhost:8080/",
          "height": 266
        }
      },
      "source": [
        "#Class 2 --> bird\n",
        "plt.imshow(best_class_2_weights_without_b,'gray') \n",
        "plt.show()  "
      ],
      "execution_count": 52,
      "outputs": [
        {
          "output_type": "display_data",
          "data": {
            "image/png": "[encoded data removed]",
            "text/plain": [
              "<Figure size 432x288 with 1 Axes>"
            ]
          },
          "metadata": {
            "tags": [],
            "needs_background": "light"
          }
        }
      ]
    },
    {
      "cell_type": "code",
      "metadata": {
        "id": "e2Vei_F4Tcjd",
        "outputId": "3e329194-de4a-486a-ff0e-fb5af077cfa2",
        "colab": {
          "base_uri": "https://localhost:8080/",
          "height": 266
        }
      },
      "source": [
        "#Class 3 --> cat\n",
        "plt.imshow(best_class_3_weights_without_b,'gray') \n",
        "plt.show()  "
      ],
      "execution_count": 53,
      "outputs": [
        {
          "output_type": "display_data",
          "data": {
            "image/png": "[encoded data removed]",
            "text/plain": [
              "<Figure size 432x288 with 1 Axes>"
            ]
          },
          "metadata": {
            "tags": [],
            "needs_background": "light"
          }
        }
      ]
    },
    {
      "cell_type": "code",
      "metadata": {
        "id": "x-T8XeZsTejA",
        "outputId": "72f202fb-8f3e-4fa3-dbdf-4c956408f5ea",
        "colab": {
          "base_uri": "https://localhost:8080/",
          "height": 266
        }
      },
      "source": [
        "#Class 4 --> deer\n",
        "plt.imshow(best_class_4_weights_without_b,'gray') \n",
        "plt.show()  "
      ],
      "execution_count": 54,
      "outputs": [
        {
          "output_type": "display_data",
          "data": {
            "image/png": "[encoded data removed]",
            "text/plain": [
              "<Figure size 432x288 with 1 Axes>"
            ]
          },
          "metadata": {
            "tags": [],
            "needs_background": "light"
          }
        }
      ]
    },
    {
      "cell_type": "code",
      "metadata": {
        "id": "I_Tk1ADxTgn-",
        "outputId": "435ad1fb-2096-4317-d87d-b94b272159bb",
        "colab": {
          "base_uri": "https://localhost:8080/",
          "height": 266
        }
      },
      "source": [
        "#Class 5 --> dog\n",
        "plt.imshow(best_class_5_weights_without_b,'gray') \n",
        "plt.show()  "
      ],
      "execution_count": 55,
      "outputs": [
        {
          "output_type": "display_data",
          "data": {
            "image/png": "[encoded data removed]",
            "text/plain": [
              "<Figure size 432x288 with 1 Axes>"
            ]
          },
          "metadata": {
            "tags": [],
            "needs_background": "light"
          }
        }
      ]
    },
    {
      "cell_type": "code",
      "metadata": {
        "id": "szWAcAX9TiA9",
        "outputId": "985c532e-e869-435d-b9e9-5f2affbdf1bd",
        "colab": {
          "base_uri": "https://localhost:8080/",
          "height": 266
        }
      },
      "source": [
        "#Class 6 --> frog\n",
        "plt.imshow(best_class_6_weights_without_b,'gray') \n",
        "plt.show()  "
      ],
      "execution_count": 56,
      "outputs": [
        {
          "output_type": "display_data",
          "data": {
            "image/png": "[encoded data removed]",
            "text/plain": [
              "<Figure size 432x288 with 1 Axes>"
            ]
          },
          "metadata": {
            "tags": [],
            "needs_background": "light"
          }
        }
      ]
    },
    {
      "cell_type": "code",
      "metadata": {
        "id": "1cDktoCfTji-",
        "outputId": "7e5e27bb-0890-4bb9-de30-d6abf4afc84a",
        "colab": {
          "base_uri": "https://localhost:8080/",
          "height": 266
        }
      },
      "source": [
        "#Class 7 --> horse\n",
        "plt.imshow(best_class_7_weights_without_b,'gray') \n",
        "plt.show()  "
      ],
      "execution_count": 57,
      "outputs": [
        {
          "output_type": "display_data",
          "data": {
            "image/png": "[encoded data removed]",
            "text/plain": [
              "<Figure size 432x288 with 1 Axes>"
            ]
          },
          "metadata": {
            "tags": [],
            "needs_background": "light"
          }
        }
      ]
    },
    {
      "cell_type": "code",
      "metadata": {
        "id": "qYW-LRRwTlJd",
        "outputId": "55cf99dd-37de-49dd-a21d-f4c1f3f99b8f",
        "colab": {
          "base_uri": "https://localhost:8080/",
          "height": 266
        }
      },
      "source": [
        "#Class 8 --> ship\n",
        "plt.imshow(best_class_8_weights_without_b,'gray') \n",
        "plt.show()  "
      ],
      "execution_count": 58,
      "outputs": [
        {
          "output_type": "display_data",
          "data": {
            "image/png": "[encoded data removed]",
            "text/plain": [
              "<Figure size 432x288 with 1 Axes>"
            ]
          },
          "metadata": {
            "tags": [],
            "needs_background": "light"
          }
        }
      ]
    },
    {
      "cell_type": "code",
      "metadata": {
        "id": "ExsuFqCsTnBF",
        "outputId": "2a0268e9-5c8b-4bf8-a50a-885897e305db",
        "colab": {
          "base_uri": "https://localhost:8080/",
          "height": 266
        }
      },
      "source": [
        "#Class 9 --> truck\n",
        "plt.imshow(best_class_9_weights_without_b,'gray') \n",
        "plt.show()  "
      ],
      "execution_count": 59,
      "outputs": [
        {
          "output_type": "display_data",
          "data": {
            "image/png": "[encoded data removed]",
            "text/plain": [
              "<Figure size 432x288 with 1 Axes>"
            ]
          },
          "metadata": {
            "tags": [],
            "needs_background": "light"
          }
        }
      ]
    },
    {
      "cell_type": "code",
      "metadata": {
        "id": "bKxOBvoyVN1G"
      },
      "source": [
        "#Converting all the weight vectors (including bias) to a single matrix\n",
        "WEIGHTS = np.concatenate((best_class_0_weights,best_class_1_weights,best_class_2_weights,best_class_3_weights,best_class_4_weights,\n",
        "                best_class_5_weights,best_class_6_weights,best_class_7_weights,best_class_8_weights,best_class_9_weights),axis=1)"
      ],
      "execution_count": 69,
      "outputs": []
    },
    {
      "cell_type": "code",
      "metadata": {
        "id": "v6erSw-CVXye",
        "outputId": "efc047bd-4d32-4f8a-dad2-c38c2ce2d9c0",
        "colab": {
          "base_uri": "https://localhost:8080/",
          "height": 34
        }
      },
      "source": [
        "WEIGHTS.shape"
      ],
      "execution_count": 70,
      "outputs": [
        {
          "output_type": "execute_result",
          "data": {
            "text/plain": [
              "(1025, 10)"
            ]
          },
          "metadata": {
            "tags": []
          },
          "execution_count": 70
        }
      ]
    },
    {
      "cell_type": "code",
      "metadata": {
        "id": "bDnw4lA2V6qM",
        "outputId": "164e493c-d035-4a1f-8cc4-2195091d7e07",
        "colab": {
          "base_uri": "https://localhost:8080/",
          "height": 34
        }
      },
      "source": [
        "#Adding an \"one\" column to the test data\n",
        "M = len(test_batch_data)\n",
        "one = np.ones((M,1))\n",
        "X = np.concatenate((test_batch_data,one), axis=1)\n",
        "X.shape"
      ],
      "execution_count": 72,
      "outputs": [
        {
          "output_type": "execute_result",
          "data": {
            "text/plain": [
              "(10000, 1025)"
            ]
          },
          "metadata": {
            "tags": []
          },
          "execution_count": 72
        }
      ]
    },
    {
      "cell_type": "code",
      "metadata": {
        "id": "mumSpB-GWES8",
        "outputId": "e5683546-c23b-4c7c-816a-c1a731ac4b77",
        "colab": {
          "base_uri": "https://localhost:8080/",
          "height": 238
        }
      },
      "source": [
        "#the probability matrix with all the probabilities\n",
        "Probs = sigmoid(X,WEIGHTS)\n",
        "Probs"
      ],
      "execution_count": 108,
      "outputs": [
        {
          "output_type": "execute_result",
          "data": {
            "text/plain": [
              "array([[9.99999733e-01, 4.00648112e-17, 2.16768393e-04, ...,\n",
              "        9.99976591e-01, 1.00000000e+00, 5.76699466e-08],\n",
              "       [2.94680353e-04, 9.99995853e-01, 1.01889131e-19, ...,\n",
              "        1.25892769e-33, 1.00000000e+00, 1.00000000e+00],\n",
              "       [2.47568703e-07, 3.64214167e-04, 2.59421208e-11, ...,\n",
              "        1.52613667e-22, 1.00000000e+00, 1.00000000e+00],\n",
              "       ...,\n",
              "       [7.14619559e-06, 4.66673133e-25, 2.46813698e-03, ...,\n",
              "        9.89258530e-01, 1.26049129e-09, 6.48119254e-13],\n",
              "       [1.35645159e-09, 9.99790345e-01, 6.48589682e-07, ...,\n",
              "        1.23956472e-28, 1.25326519e-09, 6.93973825e-03],\n",
              "       [6.98572182e-13, 2.87151842e-16, 4.62898889e-19, ...,\n",
              "        9.14803356e-01, 1.20126315e-08, 8.23515116e-23]])"
            ]
          },
          "metadata": {
            "tags": []
          },
          "execution_count": 108
        }
      ]
    },
    {
      "cell_type": "code",
      "metadata": {
        "id": "EehquvN9Wk0w",
        "outputId": "f81302ab-e384-41ec-9140-56999b3b323c",
        "colab": {
          "base_uri": "https://localhost:8080/",
          "height": 34
        }
      },
      "source": [
        "Probs.shape"
      ],
      "execution_count": 76,
      "outputs": [
        {
          "output_type": "execute_result",
          "data": {
            "text/plain": [
              "(10000, 10)"
            ]
          },
          "metadata": {
            "tags": []
          },
          "execution_count": 76
        }
      ]
    },
    {
      "cell_type": "code",
      "metadata": {
        "id": "LwzN0U3tWl0s",
        "outputId": "b39a7b36-d2f6-4e9f-a83a-1f2a6c7bb328",
        "colab": {
          "base_uri": "https://localhost:8080/",
          "height": 34
        }
      },
      "source": [
        "#finding the label corresponding to the maximum probability\n",
        "predicted_labels_final = np.argmax(Probs, axis=1)\n",
        "predicted_labels_final"
      ],
      "execution_count": 109,
      "outputs": [
        {
          "output_type": "execute_result",
          "data": {
            "text/plain": [
              "array([8, 9, 8, ..., 5, 3, 7])"
            ]
          },
          "metadata": {
            "tags": []
          },
          "execution_count": 109
        }
      ]
    },
    {
      "cell_type": "code",
      "metadata": {
        "id": "Oj6MHR70YOL8"
      },
      "source": [
        "#converting the predicted labels to a list for better handling\n",
        "predicted_labels_final = predicted_labels_final.tolist()"
      ],
      "execution_count": 110,
      "outputs": []
    },
    {
      "cell_type": "code",
      "metadata": {
        "id": "G9EfT2v3YWU8",
        "outputId": "4f736dbc-330f-4f22-c4fa-37db214a45e5",
        "colab": {
          "base_uri": "https://localhost:8080/",
          "height": 187
        }
      },
      "source": [
        "#creating confusion matrix\n",
        "CONFUSION_MATRIX = np.zeros((10,10))\n",
        "dummy = 0\n",
        "for i in test_batch_labels:\n",
        "  CONFUSION_MATRIX[i,predicted_labels_final[dummy]] = CONFUSION_MATRIX[i,predicted_labels_final[dummy]] + 1\n",
        "  dummy = dummy + 1\n",
        "\n",
        "  \n",
        "\n",
        "CONFUSION_MATRIX"
      ],
      "execution_count": 117,
      "outputs": [
        {
          "output_type": "execute_result",
          "data": {
            "text/plain": [
              "array([[184., 132.,  64.,  37.,  45.,  54.,  47., 104., 186., 147.],\n",
              "       [ 46., 399.,  15.,  20.,  23.,  18.,  49.,  44., 137., 249.],\n",
              "       [136., 123., 116.,  47.,  68.,  87.,  84.,  85., 147., 107.],\n",
              "       [ 81., 143.,  72., 114.,  64., 144.,  72.,  76., 116., 118.],\n",
              "       [ 76.,  97.,  69.,  55., 135., 118.,  97.,  80., 137., 136.],\n",
              "       [ 95.,  87.,  65.,  79.,  73., 255.,  66.,  58., 121., 101.],\n",
              "       [ 51., 158.,  28.,  51.,  77., 100., 170.,  62., 134., 169.],\n",
              "       [ 86., 101.,  52.,  42.,  83.,  67.,  78., 192., 160., 139.],\n",
              "       [ 70., 128.,  25.,  32.,  20.,  63.,  36.,  32., 430., 164.],\n",
              "       [ 40., 248.,  20.,  15.,  17.,  20.,  31.,  33., 164., 412.]])"
            ]
          },
          "metadata": {
            "tags": []
          },
          "execution_count": 117
        }
      ]
    },
    {
      "cell_type": "code",
      "metadata": {
        "id": "Lw2OAC3Sikzq",
        "outputId": "1e5800db-4255-42b2-8d99-c0fb98b9c1f8",
        "colab": {
          "base_uri": "https://localhost:8080/",
          "height": 34
        }
      },
      "source": [
        "Accuracy_final = sum(CONFUSION_MATRIX.diagonal())/10000\n",
        "Accuracy_final"
      ],
      "execution_count": 119,
      "outputs": [
        {
          "output_type": "execute_result",
          "data": {
            "text/plain": [
              "0.2407"
            ]
          },
          "metadata": {
            "tags": []
          },
          "execution_count": 119
        }
      ]
    },
    {
      "cell_type": "code",
      "metadata": {
        "id": "x2Xy3TPajcYB"
      },
      "source": [
        ""
      ],
      "execution_count": null,
      "outputs": []
    }
  ]
}